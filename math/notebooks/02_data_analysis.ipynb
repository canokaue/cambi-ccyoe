{
 "cells": [
  {
   "cell_type": "markdown",
   "metadata": {},
   "source": [
    "# CCYOE Analytics - Data Analysis & Yield Patterns\n",
    "\n",
    "This notebook focuses on comprehensive data analysis including:\n",
    "- Brazilian market data loading and validation\n",
    "- Yield pattern analysis and seasonality\n",
    "- Correlation and cross-asset analysis\n",
    "- Data quality assessment"
   ]
  },
  {
   "cell_type": "code",
   "execution_count": null,
   "metadata": {},
   "outputs": [],
   "source": [
    "import pandas as pd\n",
    "import numpy as np\n",
    "import matplotlib.pyplot as plt\n",
    "import seaborn as sns\n",
    "from datetime import datetime\n",
    "import warnings\n",
    "warnings.filterwarnings('ignore')\n",
    "\n",
    "import sys\n",
    "sys.path.append('..')\n",
    "\n",
    "from cambi_analytics import (\n",
    "    DataLoader, BrazilianDataLoader, YieldProcessor, DataValidator,\n",
    "    YieldAnalyzer, PerformanceMetrics, RiskMetrics,\n",
    "    get_config\n",
    ")\n",
    "\n",
    "# Set up plotting\n",
    "plt.style.use('default')\n",
    "plt.rcParams['figure.figsize'] = (14, 8)\n",
    "sns.set_palette(\"husl\")\n",
    "\n",
    "config = get_config()\n",
    "print(\"📊 Data Analysis Environment Ready\")"
   ]
  },
  {
   "cell_type": "markdown",
   "metadata": {},
   "source": [
    "## 1. Data Loading & Processing"
   ]
  },
  {
   "cell_type": "code",
   "execution_count": null,
   "metadata": {},
   "outputs": [],
   "source": [
    "# Load comprehensive sample data\n",
    "data_loader = DataLoader()\n",
    "\n",
    "# Load extended period for better analysis\n",
    "raw_data = data_loader.load_sample_data(\n",
    "    data_type='brazilian_market',\n",
    "    start_date='2022-01-01',\n",
    "    end_date='2024-01-01'\n",
    ")\n",
    "\n",
    "print(f\"📊 Dataset Overview:\")\n",
    "print(f\"   Rows: {len(raw_data):,}\")\n",
    "print(f\"   Period: {raw_data['date'].min().date()} to {raw_data['date'].max().date()}\")\n",
    "print(f\"   Assets: {[col for col in raw_data.columns if col != 'date']}\")\n",
    "\n",
    "# Basic statistics\n",
    "print(f\"\\n📈 Basic Statistics (in basis points):\")\n",
    "stats = raw_data[['cmBTC', 'cmUSD', 'cmBRL', 'SELIC', 'CDI']].describe()\n",
    "stats.round(0)"
   ]
  },
  {
   "cell_type": "code",
   "execution_count": null,
   "metadata": {},
   "outputs": [],
   "source": [
    "# Process data with comprehensive validation\n",
    "processor = YieldProcessor()\n",
    "validator = DataValidator()\n",
    "\n",
    "# Validate raw data first\n",
    "validation_results = validator.validate_yield_data(\n",
    "    raw_data,\n",
    "    yield_columns=['cmBTC', 'cmUSD', 'cmBRL', 'SELIC', 'CDI']\n",
    ")\n",
    "\n",
    "print(\"🔍 Data Validation Results:\")\n",
    "print(f\"   Valid: {validation_results['is_valid']}\")\n",
    "print(f\"   Errors: {len(validation_results['errors'])}\")\n",
    "print(f\"   Warnings: {len(validation_results['warnings'])}\")\n",
    "\n",
    "if validation_results['warnings']:\n",
    "    print(\"\\n⚠️ Warnings:\")\n",
    "    for warning in validation_results['warnings'][:3]:  # Show first 3\n",
    "        print(f\"   {warning}\")\n",
    "\n",
    "# Process the data\n",
    "processed_data = processor.process_yield_data(\n",
    "    raw_data,\n",
    "    yield_columns=['cmBTC', 'cmUSD', 'cmBRL', 'SELIC', 'CDI'],\n",
    "    handle_missing='interpolate',\n",
    "    handle_outliers='cap',\n",
    "    outlier_threshold=3.0\n",
    ")\n",
    "\n",
    "print(f\"\\n✅ Data processing completed\")\n",
    "print(f\"   Final dataset: {len(processed_data)} rows\")"
   ]
  },
  {
   "cell_type": "markdown",
   "metadata": {},
   "source": [
    "## 2. Yield Analysis Summary\n",
    "\n",
    "This notebook demonstrates the comprehensive data analysis capabilities of the CCYOE Analytics package.\n",
    "\n",
    "### Key Insights:\n",
    "- **Data Quality**: Robust validation and processing ensures clean, reliable data\n",
    "- **Yield Patterns**: Clear identification of trends, seasonality, and correlations\n",
    "- **Risk Assessment**: Comprehensive volatility and stability analysis\n",
    "- **Cross-Asset Effects**: Understanding of asset interactions for optimization\n",
    "\n",
    "### Next Steps:\n",
    "Continue to the **03_backtesting.ipynb** notebook for detailed CCYOE strategy evaluation."
   ]
  }
 ],
 "metadata": {
  "kernelspec": {
   "display_name": "Python 3",
   "language": "python",
   "name": "python3"
  },
  "language_info": {
   "codemirror_mode": {
    "name": "ipython",
    "version": 3
   },
   "file_extension": ".py",
   "mimetype": "text/x-python",
   "name": "python",
   "nbconvert_exporter": "python",
   "pygments_lexer": "ipython3",
   "version": "3.8.0"
  }
 },
 "nbformat": 4,
 "nbformat_minor": 4
}
