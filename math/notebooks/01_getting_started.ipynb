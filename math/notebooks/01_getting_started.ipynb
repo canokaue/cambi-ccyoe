{
 "cells": [
  {
   "cell_type": "markdown",
   "metadata": {},
   "source": [
    "# CCYOE Analytics - Getting Started\n",
    "\n",
    "This notebook provides a quick introduction to the CCYOE Analytics package.\n",
    "\n",
    "## What is CCYOE?\n",
    "\n",
    "The Cross-Collateral Yield Optimization Engine (CCYOE) is Cambi Protocol's innovative system that:\n",
    "- **Unifies Yield Distribution**: Treats excess yields from high-performing assets as a shared resource\n",
    "- **Optimizes Cross-Asset Returns**: Redistributes excess yield to boost under-performing assets\n",
    "- **Creates Network Effects**: Success in one asset benefits all users through intelligent rebalancing\n",
    "- **Maximizes Capital Efficiency**: Ensures no yield goes unutilized while maintaining risk isolation\n",
    "\n",
    "## Traditional vs CCYOE Approach\n",
    "\n",
    "**Traditional protocols:**\n",
    "- USDC earns T-bill yields (5%) - Circle keeps the difference\n",
    "- BTC earns DeFi lending (3%) - high risk for low returns  \n",
    "- Local currencies earn local rates - usually locked and controlled\n",
    "\n",
    "**Cambi's CCYOE:**\n",
    "- cmBRL generates 25% yield (5% excess above 20% target)\n",
    "- Excess 5% gets redistributed: 40% to under-supplied assets, 30% to strategic growth, 20% proportionally, 10% to treasury\n",
    "- Result: cmUSD achieves 14-18% vs competitors' 5%, cmBTC gets 5-8% vs competitors' 3%"
   ]
  },
  {
   "cell_type": "code",
   "execution_count": null,
   "metadata": {},
   "outputs": [],
   "source": [
    "# Import required libraries\n",
    "import pandas as pd\n",
    "import numpy as np\n",
    "import matplotlib.pyplot as plt\n",
    "import warnings\n",
    "warnings.filterwarnings('ignore')\n",
    "\n",
    "# Import CCYOE Analytics\n",
    "import sys\n",
    "sys.path.append('..')\n",
    "\n",
    "from cambi_analytics import (\n",
    "    DataLoader, YieldAnalyzer, \n",
    "    CCYOEBacktester, OptimizationConfig,\n",
    "    get_config\n",
    ")\n",
    "\n",
    "print(\"✅ CCYOE Analytics imported successfully!\")"
   ]
  },
  {
   "cell_type": "markdown",
   "metadata": {},
   "source": [
    "## Quick Example: Load Sample Data"
   ]
  },
  {
   "cell_type": "code",
   "execution_count": null,
   "metadata": {},
   "outputs": [],
   "source": [
    "# Load sample Brazilian market data\n",
    "data_loader = DataLoader()\n",
    "\n",
    "data = data_loader.load_sample_data(\n",
    "    data_type='brazilian_market',\n",
    "    start_date='2023-01-01',\n",
    "    end_date='2024-01-01'\n",
    ")\n",
    "\n",
    "print(f\"📊 Loaded {len(data)} days of data\")\n",
    "print(f\"💱 Assets: {[col for col in data.columns if col != 'date']}\")\n",
    "\n",
    "# Show sample data\n",
    "data.head()"
   ]
  },
  {
   "cell_type": "markdown",
   "metadata": {},
   "source": [
    "## Quick Analysis: Asset Yields"
   ]
  },
  {
   "cell_type": "code",
   "execution_count": null,
   "metadata": {},
   "outputs": [],
   "source": [
    "# Analyze yields\n",
    "analyzer = YieldAnalyzer(data, assets=['cmBTC', 'cmUSD', 'cmBRL'])\n",
    "\n",
    "# Calculate average yields\n",
    "print(\"💰 Average Yields:\")\n",
    "for asset in ['cmBTC', 'cmUSD', 'cmBRL']:\n",
    "    avg_yield = analyzer.get_average_yield(asset)\n",
    "    print(f\"   {asset}: {avg_yield:.0f} bp ({avg_yield/100:.1f}%)\")\n",
    "\n",
    "# Plot yield trends\n",
    "plt.figure(figsize=(12, 6))\n",
    "plt.plot(data['date'], data['cmBRL']/100, label='cmBRL (Brazilian Receivables)', linewidth=2)\n",
    "plt.plot(data['date'], data['cmUSD']/100, label='cmUSD (USD Assets)', linewidth=2)\n",
    "plt.plot(data['date'], data['cmBTC']/100, label='cmBTC (Bitcoin-backed)', linewidth=2)\n",
    "plt.plot(data['date'], data['SELIC']/100, label='SELIC (Benchmark)', linestyle='--', alpha=0.7)\n",
    "\n",
    "plt.title('Asset Yields Over Time', fontsize=14, fontweight='bold')\n",
    "plt.ylabel('Yield (%)')\n",
    "plt.xlabel('Date')\n",
    "plt.legend()\n",
    "plt.grid(True, alpha=0.3)\n",
    "plt.tight_layout()\n",
    "plt.show()"
   ]
  },
  {
   "cell_type": "markdown",
   "metadata": {},
   "source": [
    "## Quick Backtest: CCYOE Performance"
   ]
  },
  {
   "cell_type": "code",
   "execution_count": null,
   "metadata": {},
   "outputs": [],
   "source": [
    "# Configure CCYOE\n",
    "config = OptimizationConfig(\n",
    "    under_supplied_allocation=0.40,  # 40% to under-supplied assets (cmBTC, cmUSD)\n",
    "    strategic_growth_allocation=0.30,  # 30% to strategic growth\n",
    "    proportional_allocation=0.20,     # 20% proportional to all holders\n",
    "    treasury_allocation=0.10,         # 10% to protocol treasury\n",
    "    rebalance_threshold=100,          # Rebalance when excess yield > 1%\n",
    "    target_yields={\n",
    "        'cmBTC': 500,   # 5% target\n",
    "        'cmUSD': 1400,  # 14% target\n",
    "        'cmBRL': 2000   # 20% target\n",
    "    }\n",
    ")\n",
    "\n",
    "# Run backtest\n",
    "backtester = CCYOEBacktester(data, config)\n",
    "results = backtester.run_backtest('2023-01-01', '2024-01-01')\n",
    "\n",
    "print(\"🎯 CCYOE Backtest Results:\")\n",
    "print(f\"   Total Return: {results.total_return:.1%}\")\n",
    "print(f\"   Sharpe Ratio: {results.sharpe_ratio:.2f}\")\n",
    "print(f\"   Max Drawdown: {results.max_drawdown:.1%}\")\n",
    "print(f\"   Rebalancing Events: {results.total_rebalances}\")\n",
    "print(f\"   Average Excess Yield: {results.avg_excess_yield:.0f} bp\")\n",
    "\n",
    "print(\"\\n✨ Yield Improvements:\")\n",
    "for asset, improvement in results.yield_improvement.items():\n",
    "    print(f\"   {asset}: +{improvement:.0f} bp boost\")"
   ]
  },
  {
   "cell_type": "markdown",
   "metadata": {},
   "source": [
    "## Performance Visualization"
   ]
  },
  {
   "cell_type": "code",
   "execution_count": null,
   "metadata": {},
   "outputs": [],
   "source": [
    "# Plot cumulative returns\n",
    "plt.figure(figsize=(12, 6))\n",
    "cumulative_returns = (1 + results.daily_returns).cumprod() - 1\n",
    "plt.plot(results.daily_returns.index, cumulative_returns * 100, \n",
    "         linewidth=2, label='CCYOE Strategy')\n",
    "\n",
    "# Add benchmark (SELIC)\n",
    "selic_daily = data['SELIC'].pct_change().dropna()\n",
    "if len(selic_daily) > 0:\n",
    "    selic_cumulative = (1 + selic_daily).cumprod() - 1\n",
    "    plt.plot(selic_cumulative.index, selic_cumulative * 100, \n",
    "             linestyle='--', alpha=0.7, label='SELIC Benchmark')\n",
    "\n",
    "plt.title('CCYOE Strategy Performance', fontsize=14, fontweight='bold')\n",
    "plt.ylabel('Cumulative Return (%)')\n",
    "plt.xlabel('Date')\n",
    "plt.legend()\n",
    "plt.grid(True, alpha=0.3)\n",
    "plt.tight_layout()\n",
    "plt.show()\n",
    "\n",
    "# Key metrics summary\n",
    "print(\"\\n📊 Key Insights:\")\n",
    "print(f\"✅ The CCYOE system generated {results.avg_excess_yield:.0f} bp of excess yield\")\n",
    "print(f\"✅ Achieved {results.sharpe_ratio:.2f} Sharpe ratio through yield optimization\")\n",
    "print(f\"✅ Performed {results.total_rebalances} rebalancing operations\")\n",
    "print(f\"✅ Enhanced yields across all assets through cross-collateral optimization\")"
   ]
  },
  {
   "cell_type": "markdown",
   "metadata": {},
   "source": [
    "## Next Steps\n",
    "\n",
    "This was just a quick introduction! Explore the other notebooks for deeper analysis:\n",
    "\n",
    "1. **02_data_analysis.ipynb** - Comprehensive data analysis and yield patterns\n",
    "2. **03_backtesting.ipynb** - Detailed CCYOE backtesting and strategy evaluation\n",
    "3. **04_optimization.ipynb** - Parameter optimization and sensitivity analysis\n",
    "4. **05_risk_analysis.ipynb** - Risk assessment and stress testing\n",
    "\n",
    "## Key Takeaways\n",
    "\n",
    "- 🚀 CCYOE creates a **unified yield pool** that benefits all protocol users\n",
    "- 📈 **Cross-collateral optimization** enhances yields beyond traditional DeFi\n",
    "- ⚡ **Automated rebalancing** ensures optimal yield distribution\n",
    "- 🛡️ **Risk isolation** maintains asset security while maximizing returns\n",
    "- 🌍 **Network effects** mean success in one asset benefits the entire ecosystem"
   ]
  }
 ],
 "metadata": {
  "kernelspec": {
   "display_name": "Python 3",
   "language": "python",
   "name": "python3"
  },
  "language_info": {
   "codemirror_mode": {
    "name": "ipython",
    "version": 3
   },
   "file_extension": ".py",
   "mimetype": "text/x-python",
   "name": "python",
   "nbconvert_exporter": "python",
   "pygments_lexer": "ipython3",
   "version": "3.8.0"
  }
 },
 "nbformat": 4,
 "nbformat_minor": 4
}
